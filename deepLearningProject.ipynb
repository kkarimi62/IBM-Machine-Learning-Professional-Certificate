{
  "cells": [
    {
      "cell_type": "markdown",
      "metadata": {
        "id": "view-in-github",
        "colab_type": "text"
      },
      "source": [
        "<a href=\"https://colab.research.google.com/github/kkarimi62/IBM-Machine-Learning-Professional-Certificate/blob/main/deepLearningProject.ipynb\" target=\"_parent\"><img src=\"https://colab.research.google.com/assets/colab-badge.svg\" alt=\"Open In Colab\"/></a>"
      ]
    },
    {
      "cell_type": "markdown",
      "metadata": {
        "run_control": {
          "marked": true
        },
        "id": "SR-5VgoJJtaY"
      },
      "source": [
        "# Sentiment Analysis of Amazon Product Reviews Using Deep Learning"
      ]
    },
    {
      "cell_type": "markdown",
      "metadata": {
        "id": "EjMtGtLEJtaZ"
      },
      "source": [
        "## Introduction\n",
        "\n",
        "This project will classify the sentiment of Amazon product reviews as positive or negative. The dataset contains a large number of reviews (approximately 100,000) from Amazon with associated labels.\n"
      ]
    },
    {
      "cell_type": "markdown",
      "source": [
        "## Import Libraries and Define Auxiliary Functions\n",
        "We import the following libraries:\n"
      ],
      "metadata": {
        "id": "irR52fZdNp5-"
      }
    },
    {
      "cell_type": "code",
      "execution_count": 1,
      "metadata": {
        "id": "PAQDYRtdJtaZ"
      },
      "outputs": [],
      "source": [
        "import numpy as np\n",
        "import pandas as pd\n",
        "from google.colab import files\n",
        "import tensorflow as tf\n",
        "from tensorflow import keras\n",
        "import matplotlib.pyplot as plt\n",
        "\n",
        "import warnings\n",
        "warnings.filterwarnings('ignore')"
      ]
    },
    {
      "cell_type": "markdown",
      "metadata": {
        "id": "kxDF_OwMJtaa"
      },
      "source": [
        "## Dataset Source\n",
        "\n",
        "We use the Amazon Customer Reviews Dataset available on [kaggle](https://www.kaggle.com/datasets/cynthiarempel/amazon-us-customer-reviews-dataset/data), including a collection of reviews written in the Amazon.com marketplace and associated metadata between 1995 and 2015. More specifically, we use the subset `amazon_reviews_us_Mobile_Electronics_v1_00.tsv.zip` relevant to Mobile and Electronics categoty for sentiment analysis.\n",
        "\n",
        "The dataset consists of the followings:\n",
        "* `marketplace`: 2 letter country code of the marketplace where the review was written.\n",
        "* `customer_id`: Random identifier that can be used to aggregate reviews written by a single author.\n",
        "* `review_id`: The unique ID of the review.\n",
        "* `product_id`: The unique Product ID the review pertains to. In the multilingual dataset the reviews for the same product in different countries can be grouped by the same product_id.\n",
        "* `product_parent`: Random identifier that can be used to aggregate reviews for the same product.\n",
        "* `product_title`: Title of the product.\n",
        "* `product_category`: Broad product category that can be used to group reviews (also used to group the dataset into coherent parts).\n",
        "* `star_rating`:\n",
        "The 1-5 star rating of the review.\n",
        "* `helpful_votes`:\n",
        "Number of helpful votes.\n",
        "* `total_votes`:\n",
        "Number of total votes the review received.\n",
        "* `vine`: Review was written as part of the Vine program.\n",
        "* `verified_purchase`:\n",
        "The review is on a verified purchase.\n",
        "* `review_headline`:\n",
        "The title of the review.\n",
        "* `review_body`:\n",
        "The review text.\n",
        "* `review_date`:\n",
        "The date the review was written."
      ]
    },
    {
      "cell_type": "markdown",
      "source": [
        "### Data Collection\n",
        "\n",
        "We obtain the Amazon Reviews dataset from kaggle.\n"
      ],
      "metadata": {
        "id": "R7Zs5M2wkD7t"
      }
    },
    {
      "cell_type": "code",
      "source": [
        "uploaded = files.upload()\n",
        "\n",
        "#--- unzip\n",
        "!unzip amazon_reviews_us_Mobile_Electronics_v1_00.tsv.zip"
      ],
      "metadata": {
        "id": "RqRgS9WYkZxF",
        "colab": {
          "base_uri": "https://localhost:8080/",
          "height": 108
        },
        "outputId": "102ae11f-01cf-4d21-ddda-5b9016fd2e49"
      },
      "execution_count": 3,
      "outputs": [
        {
          "output_type": "display_data",
          "data": {
            "text/plain": [
              "<IPython.core.display.HTML object>"
            ],
            "text/html": [
              "\n",
              "     <input type=\"file\" id=\"files-0d8cea63-3117-49da-b993-7c5ce2e04cca\" name=\"files[]\" multiple disabled\n",
              "        style=\"border:none\" />\n",
              "     <output id=\"result-0d8cea63-3117-49da-b993-7c5ce2e04cca\">\n",
              "      Upload widget is only available when the cell has been executed in the\n",
              "      current browser session. Please rerun this cell to enable.\n",
              "      </output>\n",
              "      <script>// Copyright 2017 Google LLC\n",
              "//\n",
              "// Licensed under the Apache License, Version 2.0 (the \"License\");\n",
              "// you may not use this file except in compliance with the License.\n",
              "// You may obtain a copy of the License at\n",
              "//\n",
              "//      http://www.apache.org/licenses/LICENSE-2.0\n",
              "//\n",
              "// Unless required by applicable law or agreed to in writing, software\n",
              "// distributed under the License is distributed on an \"AS IS\" BASIS,\n",
              "// WITHOUT WARRANTIES OR CONDITIONS OF ANY KIND, either express or implied.\n",
              "// See the License for the specific language governing permissions and\n",
              "// limitations under the License.\n",
              "\n",
              "/**\n",
              " * @fileoverview Helpers for google.colab Python module.\n",
              " */\n",
              "(function(scope) {\n",
              "function span(text, styleAttributes = {}) {\n",
              "  const element = document.createElement('span');\n",
              "  element.textContent = text;\n",
              "  for (const key of Object.keys(styleAttributes)) {\n",
              "    element.style[key] = styleAttributes[key];\n",
              "  }\n",
              "  return element;\n",
              "}\n",
              "\n",
              "// Max number of bytes which will be uploaded at a time.\n",
              "const MAX_PAYLOAD_SIZE = 100 * 1024;\n",
              "\n",
              "function _uploadFiles(inputId, outputId) {\n",
              "  const steps = uploadFilesStep(inputId, outputId);\n",
              "  const outputElement = document.getElementById(outputId);\n",
              "  // Cache steps on the outputElement to make it available for the next call\n",
              "  // to uploadFilesContinue from Python.\n",
              "  outputElement.steps = steps;\n",
              "\n",
              "  return _uploadFilesContinue(outputId);\n",
              "}\n",
              "\n",
              "// This is roughly an async generator (not supported in the browser yet),\n",
              "// where there are multiple asynchronous steps and the Python side is going\n",
              "// to poll for completion of each step.\n",
              "// This uses a Promise to block the python side on completion of each step,\n",
              "// then passes the result of the previous step as the input to the next step.\n",
              "function _uploadFilesContinue(outputId) {\n",
              "  const outputElement = document.getElementById(outputId);\n",
              "  const steps = outputElement.steps;\n",
              "\n",
              "  const next = steps.next(outputElement.lastPromiseValue);\n",
              "  return Promise.resolve(next.value.promise).then((value) => {\n",
              "    // Cache the last promise value to make it available to the next\n",
              "    // step of the generator.\n",
              "    outputElement.lastPromiseValue = value;\n",
              "    return next.value.response;\n",
              "  });\n",
              "}\n",
              "\n",
              "/**\n",
              " * Generator function which is called between each async step of the upload\n",
              " * process.\n",
              " * @param {string} inputId Element ID of the input file picker element.\n",
              " * @param {string} outputId Element ID of the output display.\n",
              " * @return {!Iterable<!Object>} Iterable of next steps.\n",
              " */\n",
              "function* uploadFilesStep(inputId, outputId) {\n",
              "  const inputElement = document.getElementById(inputId);\n",
              "  inputElement.disabled = false;\n",
              "\n",
              "  const outputElement = document.getElementById(outputId);\n",
              "  outputElement.innerHTML = '';\n",
              "\n",
              "  const pickedPromise = new Promise((resolve) => {\n",
              "    inputElement.addEventListener('change', (e) => {\n",
              "      resolve(e.target.files);\n",
              "    });\n",
              "  });\n",
              "\n",
              "  const cancel = document.createElement('button');\n",
              "  inputElement.parentElement.appendChild(cancel);\n",
              "  cancel.textContent = 'Cancel upload';\n",
              "  const cancelPromise = new Promise((resolve) => {\n",
              "    cancel.onclick = () => {\n",
              "      resolve(null);\n",
              "    };\n",
              "  });\n",
              "\n",
              "  // Wait for the user to pick the files.\n",
              "  const files = yield {\n",
              "    promise: Promise.race([pickedPromise, cancelPromise]),\n",
              "    response: {\n",
              "      action: 'starting',\n",
              "    }\n",
              "  };\n",
              "\n",
              "  cancel.remove();\n",
              "\n",
              "  // Disable the input element since further picks are not allowed.\n",
              "  inputElement.disabled = true;\n",
              "\n",
              "  if (!files) {\n",
              "    return {\n",
              "      response: {\n",
              "        action: 'complete',\n",
              "      }\n",
              "    };\n",
              "  }\n",
              "\n",
              "  for (const file of files) {\n",
              "    const li = document.createElement('li');\n",
              "    li.append(span(file.name, {fontWeight: 'bold'}));\n",
              "    li.append(span(\n",
              "        `(${file.type || 'n/a'}) - ${file.size} bytes, ` +\n",
              "        `last modified: ${\n",
              "            file.lastModifiedDate ? file.lastModifiedDate.toLocaleDateString() :\n",
              "                                    'n/a'} - `));\n",
              "    const percent = span('0% done');\n",
              "    li.appendChild(percent);\n",
              "\n",
              "    outputElement.appendChild(li);\n",
              "\n",
              "    const fileDataPromise = new Promise((resolve) => {\n",
              "      const reader = new FileReader();\n",
              "      reader.onload = (e) => {\n",
              "        resolve(e.target.result);\n",
              "      };\n",
              "      reader.readAsArrayBuffer(file);\n",
              "    });\n",
              "    // Wait for the data to be ready.\n",
              "    let fileData = yield {\n",
              "      promise: fileDataPromise,\n",
              "      response: {\n",
              "        action: 'continue',\n",
              "      }\n",
              "    };\n",
              "\n",
              "    // Use a chunked sending to avoid message size limits. See b/62115660.\n",
              "    let position = 0;\n",
              "    do {\n",
              "      const length = Math.min(fileData.byteLength - position, MAX_PAYLOAD_SIZE);\n",
              "      const chunk = new Uint8Array(fileData, position, length);\n",
              "      position += length;\n",
              "\n",
              "      const base64 = btoa(String.fromCharCode.apply(null, chunk));\n",
              "      yield {\n",
              "        response: {\n",
              "          action: 'append',\n",
              "          file: file.name,\n",
              "          data: base64,\n",
              "        },\n",
              "      };\n",
              "\n",
              "      let percentDone = fileData.byteLength === 0 ?\n",
              "          100 :\n",
              "          Math.round((position / fileData.byteLength) * 100);\n",
              "      percent.textContent = `${percentDone}% done`;\n",
              "\n",
              "    } while (position < fileData.byteLength);\n",
              "  }\n",
              "\n",
              "  // All done.\n",
              "  yield {\n",
              "    response: {\n",
              "      action: 'complete',\n",
              "    }\n",
              "  };\n",
              "}\n",
              "\n",
              "scope.google = scope.google || {};\n",
              "scope.google.colab = scope.google.colab || {};\n",
              "scope.google.colab._files = {\n",
              "  _uploadFiles,\n",
              "  _uploadFilesContinue,\n",
              "};\n",
              "})(self);\n",
              "</script> "
            ]
          },
          "metadata": {}
        },
        {
          "output_type": "stream",
          "name": "stdout",
          "text": [
            "Saving amazon_reviews_us_Mobile_Electronics_v1_00.tsv.zip to amazon_reviews_us_Mobile_Electronics_v1_00.tsv.zip\n",
            "Archive:  amazon_reviews_us_Mobile_Electronics_v1_00.tsv.zip\n",
            "  inflating: amazon_reviews_us_Mobile_Electronics_v1_00.tsv  \n"
          ]
        }
      ]
    },
    {
      "cell_type": "markdown",
      "source": [
        "### Data Preprocessing\n",
        "\n",
        "We load the dataset into a pandas DataFrame and then display relevant information. Here only `review_body` and `star_rating` columns are included for our sentiment analysis. `star_rating` contains integers between 1-5 and is converted to binary sentiment labels. We also create a `Dataset` object and incorporate relevant columns by using the  `from_tensor_slices` functionality in TensorFlow.\n"
      ],
      "metadata": {
        "id": "8JKPjNGqkaZv"
      }
    },
    {
      "cell_type": "code",
      "execution_count": 4,
      "metadata": {
        "ExecuteTime": {
          "end_time": "2017-03-20T12:10:48.585240Z",
          "start_time": "2017-03-20T08:10:48.548076-04:00"
        },
        "jupyter": {
          "outputs_hidden": false
        },
        "colab": {
          "base_uri": "https://localhost:8080/",
          "height": 1000
        },
        "id": "kSaqYIejJtab",
        "outputId": "f53e5c2e-7d3d-452c-c8e5-21a209002a71"
      },
      "outputs": [
        {
          "output_type": "stream",
          "name": "stdout",
          "text": [
            "First few rows of the dataset:\n"
          ]
        },
        {
          "output_type": "display_data",
          "data": {
            "text/plain": [
              "  marketplace  customer_id       review_id  product_id  product_parent  \\\n",
              "0          US     20422322   R8MEA6IGAHO0B  B00MC4CED8       217304173   \n",
              "1          US     40835037  R31LOQ8JGLPRLK  B00OQMFG1Q       137313254   \n",
              "2          US     51469641  R2Y0MM9YE6OP3P  B00QERR5CY        82850235   \n",
              "3          US      4332923   RRB9C05HDOD4O  B00QUFTPV4       221169481   \n",
              "4          US     44855305  R26I2RI1GFV8QG  B0067XVNTG       563475445   \n",
              "\n",
              "                                       product_title    product_category  \\\n",
              "0                               BlackVue DR600GW-PMP  Mobile_Electronics   \n",
              "1  GENSSI GSM / GPS Two Way Smart Phone Car Alarm...  Mobile_Electronics   \n",
              "2                    iXCC Multi pack Lightning cable  Mobile_Electronics   \n",
              "3  abcGoodefg® FBI Covert Acoustic Tube Earpiece ...  Mobile_Electronics   \n",
              "4  Generic Car Dashboard Video Camera Vehicle Vid...  Mobile_Electronics   \n",
              "\n",
              "   star_rating  helpful_votes  total_votes vine verified_purchase  \\\n",
              "0          5.0            0.0          0.0    N                 Y   \n",
              "1          5.0            0.0          1.0    N                 Y   \n",
              "2          5.0            0.0          0.0    N                 Y   \n",
              "3          4.0            0.0          0.0    N                 Y   \n",
              "4          2.0            0.0          0.0    N                 Y   \n",
              "\n",
              "                                     review_headline  \\\n",
              "0                                        Very Happy!   \n",
              "1                                          five star   \n",
              "2                                       great cables   \n",
              "3  Work very well but couldn't get used to not he...   \n",
              "4                         Cameras has battery issues   \n",
              "\n",
              "                                         review_body review_date  \n",
              "0  As advertised. Everything works perfectly, I'm...  2015-08-31  \n",
              "1                                         it's great  2015-08-31  \n",
              "2  These work great and fit my life proof case fo...  2015-08-31  \n",
              "3  Work very well but couldn't get used to not he...  2015-08-31  \n",
              "4  Be careful with these products, I have bought ...  2015-08-31  "
            ],
            "text/html": [
              "\n",
              "  <div id=\"df-37ebe9af-198c-4a98-baca-629d1e4c7f87\" class=\"colab-df-container\">\n",
              "    <div>\n",
              "<style scoped>\n",
              "    .dataframe tbody tr th:only-of-type {\n",
              "        vertical-align: middle;\n",
              "    }\n",
              "\n",
              "    .dataframe tbody tr th {\n",
              "        vertical-align: top;\n",
              "    }\n",
              "\n",
              "    .dataframe thead th {\n",
              "        text-align: right;\n",
              "    }\n",
              "</style>\n",
              "<table border=\"1\" class=\"dataframe\">\n",
              "  <thead>\n",
              "    <tr style=\"text-align: right;\">\n",
              "      <th></th>\n",
              "      <th>marketplace</th>\n",
              "      <th>customer_id</th>\n",
              "      <th>review_id</th>\n",
              "      <th>product_id</th>\n",
              "      <th>product_parent</th>\n",
              "      <th>product_title</th>\n",
              "      <th>product_category</th>\n",
              "      <th>star_rating</th>\n",
              "      <th>helpful_votes</th>\n",
              "      <th>total_votes</th>\n",
              "      <th>vine</th>\n",
              "      <th>verified_purchase</th>\n",
              "      <th>review_headline</th>\n",
              "      <th>review_body</th>\n",
              "      <th>review_date</th>\n",
              "    </tr>\n",
              "  </thead>\n",
              "  <tbody>\n",
              "    <tr>\n",
              "      <th>0</th>\n",
              "      <td>US</td>\n",
              "      <td>20422322</td>\n",
              "      <td>R8MEA6IGAHO0B</td>\n",
              "      <td>B00MC4CED8</td>\n",
              "      <td>217304173</td>\n",
              "      <td>BlackVue DR600GW-PMP</td>\n",
              "      <td>Mobile_Electronics</td>\n",
              "      <td>5.0</td>\n",
              "      <td>0.0</td>\n",
              "      <td>0.0</td>\n",
              "      <td>N</td>\n",
              "      <td>Y</td>\n",
              "      <td>Very Happy!</td>\n",
              "      <td>As advertised. Everything works perfectly, I'm...</td>\n",
              "      <td>2015-08-31</td>\n",
              "    </tr>\n",
              "    <tr>\n",
              "      <th>1</th>\n",
              "      <td>US</td>\n",
              "      <td>40835037</td>\n",
              "      <td>R31LOQ8JGLPRLK</td>\n",
              "      <td>B00OQMFG1Q</td>\n",
              "      <td>137313254</td>\n",
              "      <td>GENSSI GSM / GPS Two Way Smart Phone Car Alarm...</td>\n",
              "      <td>Mobile_Electronics</td>\n",
              "      <td>5.0</td>\n",
              "      <td>0.0</td>\n",
              "      <td>1.0</td>\n",
              "      <td>N</td>\n",
              "      <td>Y</td>\n",
              "      <td>five star</td>\n",
              "      <td>it's great</td>\n",
              "      <td>2015-08-31</td>\n",
              "    </tr>\n",
              "    <tr>\n",
              "      <th>2</th>\n",
              "      <td>US</td>\n",
              "      <td>51469641</td>\n",
              "      <td>R2Y0MM9YE6OP3P</td>\n",
              "      <td>B00QERR5CY</td>\n",
              "      <td>82850235</td>\n",
              "      <td>iXCC Multi pack Lightning cable</td>\n",
              "      <td>Mobile_Electronics</td>\n",
              "      <td>5.0</td>\n",
              "      <td>0.0</td>\n",
              "      <td>0.0</td>\n",
              "      <td>N</td>\n",
              "      <td>Y</td>\n",
              "      <td>great cables</td>\n",
              "      <td>These work great and fit my life proof case fo...</td>\n",
              "      <td>2015-08-31</td>\n",
              "    </tr>\n",
              "    <tr>\n",
              "      <th>3</th>\n",
              "      <td>US</td>\n",
              "      <td>4332923</td>\n",
              "      <td>RRB9C05HDOD4O</td>\n",
              "      <td>B00QUFTPV4</td>\n",
              "      <td>221169481</td>\n",
              "      <td>abcGoodefg® FBI Covert Acoustic Tube Earpiece ...</td>\n",
              "      <td>Mobile_Electronics</td>\n",
              "      <td>4.0</td>\n",
              "      <td>0.0</td>\n",
              "      <td>0.0</td>\n",
              "      <td>N</td>\n",
              "      <td>Y</td>\n",
              "      <td>Work very well but couldn't get used to not he...</td>\n",
              "      <td>Work very well but couldn't get used to not he...</td>\n",
              "      <td>2015-08-31</td>\n",
              "    </tr>\n",
              "    <tr>\n",
              "      <th>4</th>\n",
              "      <td>US</td>\n",
              "      <td>44855305</td>\n",
              "      <td>R26I2RI1GFV8QG</td>\n",
              "      <td>B0067XVNTG</td>\n",
              "      <td>563475445</td>\n",
              "      <td>Generic Car Dashboard Video Camera Vehicle Vid...</td>\n",
              "      <td>Mobile_Electronics</td>\n",
              "      <td>2.0</td>\n",
              "      <td>0.0</td>\n",
              "      <td>0.0</td>\n",
              "      <td>N</td>\n",
              "      <td>Y</td>\n",
              "      <td>Cameras has battery issues</td>\n",
              "      <td>Be careful with these products, I have bought ...</td>\n",
              "      <td>2015-08-31</td>\n",
              "    </tr>\n",
              "  </tbody>\n",
              "</table>\n",
              "</div>\n",
              "    <div class=\"colab-df-buttons\">\n",
              "\n",
              "  <div class=\"colab-df-container\">\n",
              "    <button class=\"colab-df-convert\" onclick=\"convertToInteractive('df-37ebe9af-198c-4a98-baca-629d1e4c7f87')\"\n",
              "            title=\"Convert this dataframe to an interactive table.\"\n",
              "            style=\"display:none;\">\n",
              "\n",
              "  <svg xmlns=\"http://www.w3.org/2000/svg\" height=\"24px\" viewBox=\"0 -960 960 960\">\n",
              "    <path d=\"M120-120v-720h720v720H120Zm60-500h600v-160H180v160Zm220 220h160v-160H400v160Zm0 220h160v-160H400v160ZM180-400h160v-160H180v160Zm440 0h160v-160H620v160ZM180-180h160v-160H180v160Zm440 0h160v-160H620v160Z\"/>\n",
              "  </svg>\n",
              "    </button>\n",
              "\n",
              "  <style>\n",
              "    .colab-df-container {\n",
              "      display:flex;\n",
              "      gap: 12px;\n",
              "    }\n",
              "\n",
              "    .colab-df-convert {\n",
              "      background-color: #E8F0FE;\n",
              "      border: none;\n",
              "      border-radius: 50%;\n",
              "      cursor: pointer;\n",
              "      display: none;\n",
              "      fill: #1967D2;\n",
              "      height: 32px;\n",
              "      padding: 0 0 0 0;\n",
              "      width: 32px;\n",
              "    }\n",
              "\n",
              "    .colab-df-convert:hover {\n",
              "      background-color: #E2EBFA;\n",
              "      box-shadow: 0px 1px 2px rgba(60, 64, 67, 0.3), 0px 1px 3px 1px rgba(60, 64, 67, 0.15);\n",
              "      fill: #174EA6;\n",
              "    }\n",
              "\n",
              "    .colab-df-buttons div {\n",
              "      margin-bottom: 4px;\n",
              "    }\n",
              "\n",
              "    [theme=dark] .colab-df-convert {\n",
              "      background-color: #3B4455;\n",
              "      fill: #D2E3FC;\n",
              "    }\n",
              "\n",
              "    [theme=dark] .colab-df-convert:hover {\n",
              "      background-color: #434B5C;\n",
              "      box-shadow: 0px 1px 3px 1px rgba(0, 0, 0, 0.15);\n",
              "      filter: drop-shadow(0px 1px 2px rgba(0, 0, 0, 0.3));\n",
              "      fill: #FFFFFF;\n",
              "    }\n",
              "  </style>\n",
              "\n",
              "    <script>\n",
              "      const buttonEl =\n",
              "        document.querySelector('#df-37ebe9af-198c-4a98-baca-629d1e4c7f87 button.colab-df-convert');\n",
              "      buttonEl.style.display =\n",
              "        google.colab.kernel.accessAllowed ? 'block' : 'none';\n",
              "\n",
              "      async function convertToInteractive(key) {\n",
              "        const element = document.querySelector('#df-37ebe9af-198c-4a98-baca-629d1e4c7f87');\n",
              "        const dataTable =\n",
              "          await google.colab.kernel.invokeFunction('convertToInteractive',\n",
              "                                                    [key], {});\n",
              "        if (!dataTable) return;\n",
              "\n",
              "        const docLinkHtml = 'Like what you see? Visit the ' +\n",
              "          '<a target=\"_blank\" href=https://colab.research.google.com/notebooks/data_table.ipynb>data table notebook</a>'\n",
              "          + ' to learn more about interactive tables.';\n",
              "        element.innerHTML = '';\n",
              "        dataTable['output_type'] = 'display_data';\n",
              "        await google.colab.output.renderOutput(dataTable, element);\n",
              "        const docLink = document.createElement('div');\n",
              "        docLink.innerHTML = docLinkHtml;\n",
              "        element.appendChild(docLink);\n",
              "      }\n",
              "    </script>\n",
              "  </div>\n",
              "\n",
              "\n",
              "<div id=\"df-346d5ee8-0fe8-4bc3-b579-a050c9dae986\">\n",
              "  <button class=\"colab-df-quickchart\" onclick=\"quickchart('df-346d5ee8-0fe8-4bc3-b579-a050c9dae986')\"\n",
              "            title=\"Suggest charts\"\n",
              "            style=\"display:none;\">\n",
              "\n",
              "<svg xmlns=\"http://www.w3.org/2000/svg\" height=\"24px\"viewBox=\"0 0 24 24\"\n",
              "     width=\"24px\">\n",
              "    <g>\n",
              "        <path d=\"M19 3H5c-1.1 0-2 .9-2 2v14c0 1.1.9 2 2 2h14c1.1 0 2-.9 2-2V5c0-1.1-.9-2-2-2zM9 17H7v-7h2v7zm4 0h-2V7h2v10zm4 0h-2v-4h2v4z\"/>\n",
              "    </g>\n",
              "</svg>\n",
              "  </button>\n",
              "\n",
              "<style>\n",
              "  .colab-df-quickchart {\n",
              "      --bg-color: #E8F0FE;\n",
              "      --fill-color: #1967D2;\n",
              "      --hover-bg-color: #E2EBFA;\n",
              "      --hover-fill-color: #174EA6;\n",
              "      --disabled-fill-color: #AAA;\n",
              "      --disabled-bg-color: #DDD;\n",
              "  }\n",
              "\n",
              "  [theme=dark] .colab-df-quickchart {\n",
              "      --bg-color: #3B4455;\n",
              "      --fill-color: #D2E3FC;\n",
              "      --hover-bg-color: #434B5C;\n",
              "      --hover-fill-color: #FFFFFF;\n",
              "      --disabled-bg-color: #3B4455;\n",
              "      --disabled-fill-color: #666;\n",
              "  }\n",
              "\n",
              "  .colab-df-quickchart {\n",
              "    background-color: var(--bg-color);\n",
              "    border: none;\n",
              "    border-radius: 50%;\n",
              "    cursor: pointer;\n",
              "    display: none;\n",
              "    fill: var(--fill-color);\n",
              "    height: 32px;\n",
              "    padding: 0;\n",
              "    width: 32px;\n",
              "  }\n",
              "\n",
              "  .colab-df-quickchart:hover {\n",
              "    background-color: var(--hover-bg-color);\n",
              "    box-shadow: 0 1px 2px rgba(60, 64, 67, 0.3), 0 1px 3px 1px rgba(60, 64, 67, 0.15);\n",
              "    fill: var(--button-hover-fill-color);\n",
              "  }\n",
              "\n",
              "  .colab-df-quickchart-complete:disabled,\n",
              "  .colab-df-quickchart-complete:disabled:hover {\n",
              "    background-color: var(--disabled-bg-color);\n",
              "    fill: var(--disabled-fill-color);\n",
              "    box-shadow: none;\n",
              "  }\n",
              "\n",
              "  .colab-df-spinner {\n",
              "    border: 2px solid var(--fill-color);\n",
              "    border-color: transparent;\n",
              "    border-bottom-color: var(--fill-color);\n",
              "    animation:\n",
              "      spin 1s steps(1) infinite;\n",
              "  }\n",
              "\n",
              "  @keyframes spin {\n",
              "    0% {\n",
              "      border-color: transparent;\n",
              "      border-bottom-color: var(--fill-color);\n",
              "      border-left-color: var(--fill-color);\n",
              "    }\n",
              "    20% {\n",
              "      border-color: transparent;\n",
              "      border-left-color: var(--fill-color);\n",
              "      border-top-color: var(--fill-color);\n",
              "    }\n",
              "    30% {\n",
              "      border-color: transparent;\n",
              "      border-left-color: var(--fill-color);\n",
              "      border-top-color: var(--fill-color);\n",
              "      border-right-color: var(--fill-color);\n",
              "    }\n",
              "    40% {\n",
              "      border-color: transparent;\n",
              "      border-right-color: var(--fill-color);\n",
              "      border-top-color: var(--fill-color);\n",
              "    }\n",
              "    60% {\n",
              "      border-color: transparent;\n",
              "      border-right-color: var(--fill-color);\n",
              "    }\n",
              "    80% {\n",
              "      border-color: transparent;\n",
              "      border-right-color: var(--fill-color);\n",
              "      border-bottom-color: var(--fill-color);\n",
              "    }\n",
              "    90% {\n",
              "      border-color: transparent;\n",
              "      border-bottom-color: var(--fill-color);\n",
              "    }\n",
              "  }\n",
              "</style>\n",
              "\n",
              "  <script>\n",
              "    async function quickchart(key) {\n",
              "      const quickchartButtonEl =\n",
              "        document.querySelector('#' + key + ' button');\n",
              "      quickchartButtonEl.disabled = true;  // To prevent multiple clicks.\n",
              "      quickchartButtonEl.classList.add('colab-df-spinner');\n",
              "      try {\n",
              "        const charts = await google.colab.kernel.invokeFunction(\n",
              "            'suggestCharts', [key], {});\n",
              "      } catch (error) {\n",
              "        console.error('Error during call to suggestCharts:', error);\n",
              "      }\n",
              "      quickchartButtonEl.classList.remove('colab-df-spinner');\n",
              "      quickchartButtonEl.classList.add('colab-df-quickchart-complete');\n",
              "    }\n",
              "    (() => {\n",
              "      let quickchartButtonEl =\n",
              "        document.querySelector('#df-346d5ee8-0fe8-4bc3-b579-a050c9dae986 button');\n",
              "      quickchartButtonEl.style.display =\n",
              "        google.colab.kernel.accessAllowed ? 'block' : 'none';\n",
              "    })();\n",
              "  </script>\n",
              "</div>\n",
              "\n",
              "    </div>\n",
              "  </div>\n"
            ],
            "application/vnd.google.colaboratory.intrinsic+json": {
              "type": "dataframe",
              "summary": "{\n  \"name\": \"text_dataset = tf\",\n  \"rows\": 5,\n  \"fields\": [\n    {\n      \"column\": \"marketplace\",\n      \"properties\": {\n        \"dtype\": \"category\",\n        \"num_unique_values\": 1,\n        \"samples\": [\n          \"US\"\n        ],\n        \"semantic_type\": \"\",\n        \"description\": \"\"\n      }\n    },\n    {\n      \"column\": \"customer_id\",\n      \"properties\": {\n        \"dtype\": \"number\",\n        \"std\": 19501024,\n        \"min\": 4332923,\n        \"max\": 51469641,\n        \"num_unique_values\": 5,\n        \"samples\": [\n          40835037\n        ],\n        \"semantic_type\": \"\",\n        \"description\": \"\"\n      }\n    },\n    {\n      \"column\": \"review_id\",\n      \"properties\": {\n        \"dtype\": \"string\",\n        \"num_unique_values\": 5,\n        \"samples\": [\n          \"R31LOQ8JGLPRLK\"\n        ],\n        \"semantic_type\": \"\",\n        \"description\": \"\"\n      }\n    },\n    {\n      \"column\": \"product_id\",\n      \"properties\": {\n        \"dtype\": \"string\",\n        \"num_unique_values\": 5,\n        \"samples\": [\n          \"B00OQMFG1Q\"\n        ],\n        \"semantic_type\": \"\",\n        \"description\": \"\"\n      }\n    },\n    {\n      \"column\": \"product_parent\",\n      \"properties\": {\n        \"dtype\": \"number\",\n        \"std\": 187515916,\n        \"min\": 82850235,\n        \"max\": 563475445,\n        \"num_unique_values\": 5,\n        \"samples\": [\n          137313254\n        ],\n        \"semantic_type\": \"\",\n        \"description\": \"\"\n      }\n    },\n    {\n      \"column\": \"product_title\",\n      \"properties\": {\n        \"dtype\": \"string\",\n        \"num_unique_values\": 5,\n        \"samples\": [\n          \"GENSSI GSM / GPS Two Way Smart Phone Car Alarm System for iPhone Android Security\"\n        ],\n        \"semantic_type\": \"\",\n        \"description\": \"\"\n      }\n    },\n    {\n      \"column\": \"product_category\",\n      \"properties\": {\n        \"dtype\": \"category\",\n        \"num_unique_values\": 1,\n        \"samples\": [\n          \"Mobile_Electronics\"\n        ],\n        \"semantic_type\": \"\",\n        \"description\": \"\"\n      }\n    },\n    {\n      \"column\": \"star_rating\",\n      \"properties\": {\n        \"dtype\": \"number\",\n        \"std\": 1.3038404810405297,\n        \"min\": 2.0,\n        \"max\": 5.0,\n        \"num_unique_values\": 3,\n        \"samples\": [\n          5.0\n        ],\n        \"semantic_type\": \"\",\n        \"description\": \"\"\n      }\n    },\n    {\n      \"column\": \"helpful_votes\",\n      \"properties\": {\n        \"dtype\": \"number\",\n        \"std\": 0.0,\n        \"min\": 0.0,\n        \"max\": 0.0,\n        \"num_unique_values\": 1,\n        \"samples\": [\n          0.0\n        ],\n        \"semantic_type\": \"\",\n        \"description\": \"\"\n      }\n    },\n    {\n      \"column\": \"total_votes\",\n      \"properties\": {\n        \"dtype\": \"number\",\n        \"std\": 0.44721359549995804,\n        \"min\": 0.0,\n        \"max\": 1.0,\n        \"num_unique_values\": 2,\n        \"samples\": [\n          1.0\n        ],\n        \"semantic_type\": \"\",\n        \"description\": \"\"\n      }\n    },\n    {\n      \"column\": \"vine\",\n      \"properties\": {\n        \"dtype\": \"category\",\n        \"num_unique_values\": 1,\n        \"samples\": [\n          \"N\"\n        ],\n        \"semantic_type\": \"\",\n        \"description\": \"\"\n      }\n    },\n    {\n      \"column\": \"verified_purchase\",\n      \"properties\": {\n        \"dtype\": \"category\",\n        \"num_unique_values\": 1,\n        \"samples\": [\n          \"Y\"\n        ],\n        \"semantic_type\": \"\",\n        \"description\": \"\"\n      }\n    },\n    {\n      \"column\": \"review_headline\",\n      \"properties\": {\n        \"dtype\": \"string\",\n        \"num_unique_values\": 5,\n        \"samples\": [\n          \"five star\"\n        ],\n        \"semantic_type\": \"\",\n        \"description\": \"\"\n      }\n    },\n    {\n      \"column\": \"review_body\",\n      \"properties\": {\n        \"dtype\": \"string\",\n        \"num_unique_values\": 5,\n        \"samples\": [\n          \"it's great\"\n        ],\n        \"semantic_type\": \"\",\n        \"description\": \"\"\n      }\n    },\n    {\n      \"column\": \"review_date\",\n      \"properties\": {\n        \"dtype\": \"object\",\n        \"num_unique_values\": 1,\n        \"samples\": [\n          \"2015-08-31\"\n        ],\n        \"semantic_type\": \"\",\n        \"description\": \"\"\n      }\n    }\n  ]\n}"
            }
          },
          "metadata": {}
        },
        {
          "output_type": "stream",
          "name": "stdout",
          "text": [
            "\n",
            "Data Information:\n",
            "<class 'pandas.core.frame.DataFrame'>\n",
            "RangeIndex: 104852 entries, 0 to 104851\n",
            "Data columns (total 15 columns):\n",
            " #   Column             Non-Null Count   Dtype  \n",
            "---  ------             --------------   -----  \n",
            " 0   marketplace        104852 non-null  object \n",
            " 1   customer_id        104852 non-null  int64  \n",
            " 2   review_id          104852 non-null  object \n",
            " 3   product_id         104852 non-null  object \n",
            " 4   product_parent     104852 non-null  int64  \n",
            " 5   product_title      104852 non-null  object \n",
            " 6   product_category   104852 non-null  object \n",
            " 7   star_rating        104850 non-null  float64\n",
            " 8   helpful_votes      104850 non-null  float64\n",
            " 9   total_votes        104850 non-null  float64\n",
            " 10  vine               104850 non-null  object \n",
            " 11  verified_purchase  104850 non-null  object \n",
            " 12  review_headline    104848 non-null  object \n",
            " 13  review_body        104848 non-null  object \n",
            " 14  review_date        104850 non-null  object \n",
            "dtypes: float64(3), int64(2), object(10)\n",
            "memory usage: 12.0+ MB\n"
          ]
        },
        {
          "output_type": "display_data",
          "data": {
            "text/plain": [
              "None"
            ]
          },
          "metadata": {}
        },
        {
          "output_type": "stream",
          "name": "stdout",
          "text": [
            "\n",
            "Descriptive Statistics:\n"
          ]
        },
        {
          "output_type": "display_data",
          "data": {
            "text/plain": [
              "                   count          mean           std      min          25%  \\\n",
              "customer_id     104852.0  2.793783e+07  1.508722e+07  10071.0   14714015.0   \n",
              "product_parent  104852.0  5.015196e+08  2.871661e+08  53524.0  259373148.0   \n",
              "star_rating     104850.0  3.760000e+00  1.520000e+00      1.0          3.0   \n",
              "helpful_votes   104850.0  1.240000e+00  7.070000e+00      0.0          0.0   \n",
              "total_votes     104850.0  1.620000e+00  7.910000e+00      0.0          0.0   \n",
              "\n",
              "                        50%          75%          max  \n",
              "customer_id      26503567.5   42235508.5   53096568.0  \n",
              "product_parent  493728853.0  744008282.0  999950751.0  \n",
              "star_rating             4.0          5.0          5.0  \n",
              "helpful_votes           0.0          1.0        769.0  \n",
              "total_votes             0.0          1.0        791.0  "
            ],
            "text/html": [
              "\n",
              "  <div id=\"df-50126fac-2fe7-4173-a4d5-dabcb46b7804\" class=\"colab-df-container\">\n",
              "    <div>\n",
              "<style scoped>\n",
              "    .dataframe tbody tr th:only-of-type {\n",
              "        vertical-align: middle;\n",
              "    }\n",
              "\n",
              "    .dataframe tbody tr th {\n",
              "        vertical-align: top;\n",
              "    }\n",
              "\n",
              "    .dataframe thead th {\n",
              "        text-align: right;\n",
              "    }\n",
              "</style>\n",
              "<table border=\"1\" class=\"dataframe\">\n",
              "  <thead>\n",
              "    <tr style=\"text-align: right;\">\n",
              "      <th></th>\n",
              "      <th>count</th>\n",
              "      <th>mean</th>\n",
              "      <th>std</th>\n",
              "      <th>min</th>\n",
              "      <th>25%</th>\n",
              "      <th>50%</th>\n",
              "      <th>75%</th>\n",
              "      <th>max</th>\n",
              "    </tr>\n",
              "  </thead>\n",
              "  <tbody>\n",
              "    <tr>\n",
              "      <th>customer_id</th>\n",
              "      <td>104852.0</td>\n",
              "      <td>2.793783e+07</td>\n",
              "      <td>1.508722e+07</td>\n",
              "      <td>10071.0</td>\n",
              "      <td>14714015.0</td>\n",
              "      <td>26503567.5</td>\n",
              "      <td>42235508.5</td>\n",
              "      <td>53096568.0</td>\n",
              "    </tr>\n",
              "    <tr>\n",
              "      <th>product_parent</th>\n",
              "      <td>104852.0</td>\n",
              "      <td>5.015196e+08</td>\n",
              "      <td>2.871661e+08</td>\n",
              "      <td>53524.0</td>\n",
              "      <td>259373148.0</td>\n",
              "      <td>493728853.0</td>\n",
              "      <td>744008282.0</td>\n",
              "      <td>999950751.0</td>\n",
              "    </tr>\n",
              "    <tr>\n",
              "      <th>star_rating</th>\n",
              "      <td>104850.0</td>\n",
              "      <td>3.760000e+00</td>\n",
              "      <td>1.520000e+00</td>\n",
              "      <td>1.0</td>\n",
              "      <td>3.0</td>\n",
              "      <td>4.0</td>\n",
              "      <td>5.0</td>\n",
              "      <td>5.0</td>\n",
              "    </tr>\n",
              "    <tr>\n",
              "      <th>helpful_votes</th>\n",
              "      <td>104850.0</td>\n",
              "      <td>1.240000e+00</td>\n",
              "      <td>7.070000e+00</td>\n",
              "      <td>0.0</td>\n",
              "      <td>0.0</td>\n",
              "      <td>0.0</td>\n",
              "      <td>1.0</td>\n",
              "      <td>769.0</td>\n",
              "    </tr>\n",
              "    <tr>\n",
              "      <th>total_votes</th>\n",
              "      <td>104850.0</td>\n",
              "      <td>1.620000e+00</td>\n",
              "      <td>7.910000e+00</td>\n",
              "      <td>0.0</td>\n",
              "      <td>0.0</td>\n",
              "      <td>0.0</td>\n",
              "      <td>1.0</td>\n",
              "      <td>791.0</td>\n",
              "    </tr>\n",
              "  </tbody>\n",
              "</table>\n",
              "</div>\n",
              "    <div class=\"colab-df-buttons\">\n",
              "\n",
              "  <div class=\"colab-df-container\">\n",
              "    <button class=\"colab-df-convert\" onclick=\"convertToInteractive('df-50126fac-2fe7-4173-a4d5-dabcb46b7804')\"\n",
              "            title=\"Convert this dataframe to an interactive table.\"\n",
              "            style=\"display:none;\">\n",
              "\n",
              "  <svg xmlns=\"http://www.w3.org/2000/svg\" height=\"24px\" viewBox=\"0 -960 960 960\">\n",
              "    <path d=\"M120-120v-720h720v720H120Zm60-500h600v-160H180v160Zm220 220h160v-160H400v160Zm0 220h160v-160H400v160ZM180-400h160v-160H180v160Zm440 0h160v-160H620v160ZM180-180h160v-160H180v160Zm440 0h160v-160H620v160Z\"/>\n",
              "  </svg>\n",
              "    </button>\n",
              "\n",
              "  <style>\n",
              "    .colab-df-container {\n",
              "      display:flex;\n",
              "      gap: 12px;\n",
              "    }\n",
              "\n",
              "    .colab-df-convert {\n",
              "      background-color: #E8F0FE;\n",
              "      border: none;\n",
              "      border-radius: 50%;\n",
              "      cursor: pointer;\n",
              "      display: none;\n",
              "      fill: #1967D2;\n",
              "      height: 32px;\n",
              "      padding: 0 0 0 0;\n",
              "      width: 32px;\n",
              "    }\n",
              "\n",
              "    .colab-df-convert:hover {\n",
              "      background-color: #E2EBFA;\n",
              "      box-shadow: 0px 1px 2px rgba(60, 64, 67, 0.3), 0px 1px 3px 1px rgba(60, 64, 67, 0.15);\n",
              "      fill: #174EA6;\n",
              "    }\n",
              "\n",
              "    .colab-df-buttons div {\n",
              "      margin-bottom: 4px;\n",
              "    }\n",
              "\n",
              "    [theme=dark] .colab-df-convert {\n",
              "      background-color: #3B4455;\n",
              "      fill: #D2E3FC;\n",
              "    }\n",
              "\n",
              "    [theme=dark] .colab-df-convert:hover {\n",
              "      background-color: #434B5C;\n",
              "      box-shadow: 0px 1px 3px 1px rgba(0, 0, 0, 0.15);\n",
              "      filter: drop-shadow(0px 1px 2px rgba(0, 0, 0, 0.3));\n",
              "      fill: #FFFFFF;\n",
              "    }\n",
              "  </style>\n",
              "\n",
              "    <script>\n",
              "      const buttonEl =\n",
              "        document.querySelector('#df-50126fac-2fe7-4173-a4d5-dabcb46b7804 button.colab-df-convert');\n",
              "      buttonEl.style.display =\n",
              "        google.colab.kernel.accessAllowed ? 'block' : 'none';\n",
              "\n",
              "      async function convertToInteractive(key) {\n",
              "        const element = document.querySelector('#df-50126fac-2fe7-4173-a4d5-dabcb46b7804');\n",
              "        const dataTable =\n",
              "          await google.colab.kernel.invokeFunction('convertToInteractive',\n",
              "                                                    [key], {});\n",
              "        if (!dataTable) return;\n",
              "\n",
              "        const docLinkHtml = 'Like what you see? Visit the ' +\n",
              "          '<a target=\"_blank\" href=https://colab.research.google.com/notebooks/data_table.ipynb>data table notebook</a>'\n",
              "          + ' to learn more about interactive tables.';\n",
              "        element.innerHTML = '';\n",
              "        dataTable['output_type'] = 'display_data';\n",
              "        await google.colab.output.renderOutput(dataTable, element);\n",
              "        const docLink = document.createElement('div');\n",
              "        docLink.innerHTML = docLinkHtml;\n",
              "        element.appendChild(docLink);\n",
              "      }\n",
              "    </script>\n",
              "  </div>\n",
              "\n",
              "\n",
              "<div id=\"df-b01bf3f5-a6f9-4903-ba93-ace37f588232\">\n",
              "  <button class=\"colab-df-quickchart\" onclick=\"quickchart('df-b01bf3f5-a6f9-4903-ba93-ace37f588232')\"\n",
              "            title=\"Suggest charts\"\n",
              "            style=\"display:none;\">\n",
              "\n",
              "<svg xmlns=\"http://www.w3.org/2000/svg\" height=\"24px\"viewBox=\"0 0 24 24\"\n",
              "     width=\"24px\">\n",
              "    <g>\n",
              "        <path d=\"M19 3H5c-1.1 0-2 .9-2 2v14c0 1.1.9 2 2 2h14c1.1 0 2-.9 2-2V5c0-1.1-.9-2-2-2zM9 17H7v-7h2v7zm4 0h-2V7h2v10zm4 0h-2v-4h2v4z\"/>\n",
              "    </g>\n",
              "</svg>\n",
              "  </button>\n",
              "\n",
              "<style>\n",
              "  .colab-df-quickchart {\n",
              "      --bg-color: #E8F0FE;\n",
              "      --fill-color: #1967D2;\n",
              "      --hover-bg-color: #E2EBFA;\n",
              "      --hover-fill-color: #174EA6;\n",
              "      --disabled-fill-color: #AAA;\n",
              "      --disabled-bg-color: #DDD;\n",
              "  }\n",
              "\n",
              "  [theme=dark] .colab-df-quickchart {\n",
              "      --bg-color: #3B4455;\n",
              "      --fill-color: #D2E3FC;\n",
              "      --hover-bg-color: #434B5C;\n",
              "      --hover-fill-color: #FFFFFF;\n",
              "      --disabled-bg-color: #3B4455;\n",
              "      --disabled-fill-color: #666;\n",
              "  }\n",
              "\n",
              "  .colab-df-quickchart {\n",
              "    background-color: var(--bg-color);\n",
              "    border: none;\n",
              "    border-radius: 50%;\n",
              "    cursor: pointer;\n",
              "    display: none;\n",
              "    fill: var(--fill-color);\n",
              "    height: 32px;\n",
              "    padding: 0;\n",
              "    width: 32px;\n",
              "  }\n",
              "\n",
              "  .colab-df-quickchart:hover {\n",
              "    background-color: var(--hover-bg-color);\n",
              "    box-shadow: 0 1px 2px rgba(60, 64, 67, 0.3), 0 1px 3px 1px rgba(60, 64, 67, 0.15);\n",
              "    fill: var(--button-hover-fill-color);\n",
              "  }\n",
              "\n",
              "  .colab-df-quickchart-complete:disabled,\n",
              "  .colab-df-quickchart-complete:disabled:hover {\n",
              "    background-color: var(--disabled-bg-color);\n",
              "    fill: var(--disabled-fill-color);\n",
              "    box-shadow: none;\n",
              "  }\n",
              "\n",
              "  .colab-df-spinner {\n",
              "    border: 2px solid var(--fill-color);\n",
              "    border-color: transparent;\n",
              "    border-bottom-color: var(--fill-color);\n",
              "    animation:\n",
              "      spin 1s steps(1) infinite;\n",
              "  }\n",
              "\n",
              "  @keyframes spin {\n",
              "    0% {\n",
              "      border-color: transparent;\n",
              "      border-bottom-color: var(--fill-color);\n",
              "      border-left-color: var(--fill-color);\n",
              "    }\n",
              "    20% {\n",
              "      border-color: transparent;\n",
              "      border-left-color: var(--fill-color);\n",
              "      border-top-color: var(--fill-color);\n",
              "    }\n",
              "    30% {\n",
              "      border-color: transparent;\n",
              "      border-left-color: var(--fill-color);\n",
              "      border-top-color: var(--fill-color);\n",
              "      border-right-color: var(--fill-color);\n",
              "    }\n",
              "    40% {\n",
              "      border-color: transparent;\n",
              "      border-right-color: var(--fill-color);\n",
              "      border-top-color: var(--fill-color);\n",
              "    }\n",
              "    60% {\n",
              "      border-color: transparent;\n",
              "      border-right-color: var(--fill-color);\n",
              "    }\n",
              "    80% {\n",
              "      border-color: transparent;\n",
              "      border-right-color: var(--fill-color);\n",
              "      border-bottom-color: var(--fill-color);\n",
              "    }\n",
              "    90% {\n",
              "      border-color: transparent;\n",
              "      border-bottom-color: var(--fill-color);\n",
              "    }\n",
              "  }\n",
              "</style>\n",
              "\n",
              "  <script>\n",
              "    async function quickchart(key) {\n",
              "      const quickchartButtonEl =\n",
              "        document.querySelector('#' + key + ' button');\n",
              "      quickchartButtonEl.disabled = true;  // To prevent multiple clicks.\n",
              "      quickchartButtonEl.classList.add('colab-df-spinner');\n",
              "      try {\n",
              "        const charts = await google.colab.kernel.invokeFunction(\n",
              "            'suggestCharts', [key], {});\n",
              "      } catch (error) {\n",
              "        console.error('Error during call to suggestCharts:', error);\n",
              "      }\n",
              "      quickchartButtonEl.classList.remove('colab-df-spinner');\n",
              "      quickchartButtonEl.classList.add('colab-df-quickchart-complete');\n",
              "    }\n",
              "    (() => {\n",
              "      let quickchartButtonEl =\n",
              "        document.querySelector('#df-b01bf3f5-a6f9-4903-ba93-ace37f588232 button');\n",
              "      quickchartButtonEl.style.display =\n",
              "        google.colab.kernel.accessAllowed ? 'block' : 'none';\n",
              "    })();\n",
              "  </script>\n",
              "</div>\n",
              "\n",
              "    </div>\n",
              "  </div>\n"
            ],
            "application/vnd.google.colaboratory.intrinsic+json": {
              "type": "dataframe",
              "summary": "{\n  \"name\": \"text_dataset = tf\",\n  \"rows\": 5,\n  \"fields\": [\n    {\n      \"column\": \"count\",\n      \"properties\": {\n        \"dtype\": \"number\",\n        \"std\": 1.0954451150103321,\n        \"min\": 104850.0,\n        \"max\": 104852.0,\n        \"num_unique_values\": 2,\n        \"samples\": [\n          104850.0,\n          104852.0\n        ],\n        \"semantic_type\": \"\",\n        \"description\": \"\"\n      }\n    },\n    {\n      \"column\": \"mean\",\n      \"properties\": {\n        \"dtype\": \"number\",\n        \"std\": 221493473.0136979,\n        \"min\": 1.24,\n        \"max\": 501519648.44,\n        \"num_unique_values\": 5,\n        \"samples\": [\n          501519648.44,\n          1.62\n        ],\n        \"semantic_type\": \"\",\n        \"description\": \"\"\n      }\n    },\n    {\n      \"column\": \"std\",\n      \"properties\": {\n        \"dtype\": \"number\",\n        \"std\": 126906052.30614066,\n        \"min\": 1.52,\n        \"max\": 287166114.96,\n        \"num_unique_values\": 5,\n        \"samples\": [\n          287166114.96,\n          7.91\n        ],\n        \"semantic_type\": \"\",\n        \"description\": \"\"\n      }\n    },\n    {\n      \"column\": \"min\",\n      \"properties\": {\n        \"dtype\": \"number\",\n        \"std\": 23223.65913675104,\n        \"min\": 0.0,\n        \"max\": 53524.0,\n        \"num_unique_values\": 4,\n        \"samples\": [\n          53524.0,\n          0.0\n        ],\n        \"semantic_type\": \"\",\n        \"description\": \"\"\n      }\n    },\n    {\n      \"column\": \"25%\",\n      \"properties\": {\n        \"dtype\": \"number\",\n        \"std\": 114527482.75814395,\n        \"min\": 0.0,\n        \"max\": 259373148.0,\n        \"num_unique_values\": 4,\n        \"samples\": [\n          259373148.0,\n          0.0\n        ],\n        \"semantic_type\": \"\",\n        \"description\": \"\"\n      }\n    },\n    {\n      \"column\": \"50%\",\n      \"properties\": {\n        \"dtype\": \"number\",\n        \"std\": 218141160.87678927,\n        \"min\": 0.0,\n        \"max\": 493728853.0,\n        \"num_unique_values\": 4,\n        \"samples\": [\n          493728853.0,\n          0.0\n        ],\n        \"semantic_type\": \"\",\n        \"description\": \"\"\n      }\n    },\n    {\n      \"column\": \"75%\",\n      \"properties\": {\n        \"dtype\": \"number\",\n        \"std\": 328517998.0006426,\n        \"min\": 1.0,\n        \"max\": 744008282.0,\n        \"num_unique_values\": 4,\n        \"samples\": [\n          744008282.0,\n          1.0\n        ],\n        \"semantic_type\": \"\",\n        \"description\": \"\"\n      }\n    },\n    {\n      \"column\": \"max\",\n      \"properties\": {\n        \"dtype\": \"number\",\n        \"std\": 441853584.2169131,\n        \"min\": 5.0,\n        \"max\": 999950751.0,\n        \"num_unique_values\": 5,\n        \"samples\": [\n          999950751.0,\n          791.0\n        ],\n        \"semantic_type\": \"\",\n        \"description\": \"\"\n      }\n    }\n  ]\n}"
            }
          },
          "metadata": {}
        },
        {
          "output_type": "stream",
          "name": "stdout",
          "text": [
            "\n",
            "Distribution of star_rating:\n"
          ]
        },
        {
          "output_type": "display_data",
          "data": {
            "text/plain": [
              "star_rating\n",
              "5.0    0.497835\n",
              "4.0    0.172275\n",
              "1.0    0.167582\n",
              "3.0    0.092704\n",
              "2.0    0.069604\n",
              "Name: proportion, dtype: float64"
            ]
          },
          "metadata": {}
        },
        {
          "output_type": "stream",
          "name": "stdout",
          "text": [
            "\n",
            "Missing Values:\n"
          ]
        },
        {
          "output_type": "display_data",
          "data": {
            "text/plain": [
              "review_body    0\n",
              "star_rating    0\n",
              "dtype: int64"
            ]
          },
          "metadata": {}
        }
      ],
      "source": [
        "# Read the dataset\n",
        "# skip line numbers 35246 and 87073 because they seem to have an inconsistent format as opposed to the other lines!\n",
        "raw_data     = pd.read_csv('amazon_reviews_us_Mobile_Electronics_v1_00.tsv',sep='\\t',skiprows=[35246-1,87073-1])\n",
        "\n",
        "# Display the first few rows of the dataset\n",
        "print(\"First few rows of the dataset:\")\n",
        "display(round(raw_data.head(),2))\n",
        "\n",
        "# Data information\n",
        "print(\"\\nData Information:\")\n",
        "display(raw_data.info())\n",
        "\n",
        "# Descriptive statistics\n",
        "print(\"\\nDescriptive Statistics:\")\n",
        "display(round(raw_data.describe(),2).T)\n",
        "\n",
        "# Distribution of the target variable (star_rating)\n",
        "print(\"\\nDistribution of star_rating:\")\n",
        "display(raw_data['star_rating'].value_counts(normalize=True))\n",
        "\n",
        "#--- Remove missing values\n",
        "data         = raw_data['review_body star_rating'.split()].dropna()\n",
        "print(\"\\nMissing Values:\")\n",
        "display( data.isnull().sum() )\n",
        "\n",
        "#--- Create dataset object\n",
        "review_body  = data.review_body\n",
        "star_rating  = data.star_rating\n",
        "binary_label = np.where( star_rating > 3, 1, 0 )\n",
        "text_dataset = tf.data.Dataset.from_tensor_slices( ( review_body, binary_label ) )"
      ]
    },
    {
      "cell_type": "code",
      "source": [
        "for review, star in text_dataset.take( 5 ):\n",
        "  print( review, star, '\\n' )"
      ],
      "metadata": {
        "colab": {
          "base_uri": "https://localhost:8080/"
        },
        "id": "7GEsvH1OtGJb",
        "outputId": "7646f983-a637-416d-a1b8-c73155c4ad29"
      },
      "execution_count": 5,
      "outputs": [
        {
          "output_type": "stream",
          "name": "stdout",
          "text": [
            "tf.Tensor(b\"As advertised. Everything works perfectly, I'm very happy with the camera. As a matter of fact I'm going to buy another one for my 2nd car.\", shape=(), dtype=string) tf.Tensor(1, shape=(), dtype=int64) \n",
            "\n",
            "tf.Tensor(b\"it's great\", shape=(), dtype=string) tf.Tensor(1, shape=(), dtype=int64) \n",
            "\n",
            "tf.Tensor(b'These work great and fit my life proof case for the iPhone 6', shape=(), dtype=string) tf.Tensor(1, shape=(), dtype=int64) \n",
            "\n",
            "tf.Tensor(b\"Work very well but couldn't get used to not hearing anything out of the ear they v were plugged into.\", shape=(), dtype=string) tf.Tensor(1, shape=(), dtype=int64) \n",
            "\n",
            "tf.Tensor(b\"Be careful with these products, I have bought several of these cameras and the image is pretty decent but battery doesn't hold any charge!!!!\", shape=(), dtype=string) tf.Tensor(0, shape=(), dtype=int64) \n",
            "\n"
          ]
        }
      ]
    },
    {
      "cell_type": "markdown",
      "source": [
        "We split our dataset into train/test subsets."
      ],
      "metadata": {
        "id": "lJE9VQLLC45H"
      }
    },
    {
      "cell_type": "code",
      "source": [
        "def train_test_split(dataset,train_ratio=0.8, batch_size = 32):\n",
        "    numpy_array       =  np.array( list( dataset.as_numpy_iterator() ) )\n",
        "    num_samples       = numpy_array.shape[ 0 ]\n",
        "    indices           = np.arange( num_samples )\n",
        "    np.random.shuffle( indices )\n",
        "    #\n",
        "    num_train_samples = int( train_ratio * num_samples )\n",
        "    train_indices     = indices[ :num_train_samples ]\n",
        "    test_indices      = indices[ num_train_samples: ]\n",
        "\n",
        "    train_data        = numpy_array[ train_indices ]\n",
        "    test_data         = numpy_array[ test_indices ]\n",
        "\n",
        "    train_dataset     = tf.data.Dataset.from_tensor_slices( (train_data[:,0],train_data[:,1].astype(float)) )\n",
        "    test_dataset      = tf.data.Dataset.from_tensor_slices( (test_data[:,0],test_data[:,1].astype(float)) )\n",
        "\n",
        "    return train_dataset.batch( batch_size, drop_remainder=True ) , test_dataset.batch( batch_size, drop_remainder=True )\n",
        "\n",
        "\n",
        "train_dataset, test_dataset = train_test_split( text_dataset )\n"
      ],
      "metadata": {
        "id": "ONEp1qu8SGGu"
      },
      "execution_count": 6,
      "outputs": []
    },
    {
      "cell_type": "markdown",
      "source": [
        "`train_dataset` and `test_dataset` contain inputs and targets that are `tf` strings and floats:"
      ],
      "metadata": {
        "id": "ZBvF8OPSfIPO"
      }
    },
    {
      "cell_type": "code",
      "source": [
        "for input, target in train_dataset:\n",
        "  print('input.shape:',input.shape)\n",
        "  print('input.dtype:',input.dtype)\n",
        "  print('target.shape:',target.shape)\n",
        "  print('target.dtype:',target.dtype)\n",
        "  print('input[0]:',input[0])\n",
        "  print('target[0]:',target[0])\n",
        "  break"
      ],
      "metadata": {
        "colab": {
          "base_uri": "https://localhost:8080/"
        },
        "id": "JcA0lneIWGFk",
        "outputId": "1c3d8552-fe2f-4978-94d0-dec3872e5fd2"
      },
      "execution_count": 7,
      "outputs": [
        {
          "output_type": "stream",
          "name": "stdout",
          "text": [
            "input.shape: (32,)\n",
            "input.dtype: <dtype: 'string'>\n",
            "target.shape: (32,)\n",
            "target.dtype: <dtype: 'float64'>\n",
            "input[0]: tf.Tensor(b\"I truly cannot understand what all the commotion is about. This is a excellent product at $35.00. You are not going to find another for this price.  I've bought multiple units and none have failed.  I just installed in a BMW 740il. Took an hour and a half but after you could only see one cable. I hid the microphone where the original one was and WOW what clarity and it's hidden.  No one I have installed this for has complained about bluetooth connectivity or ipod functionality.  Of course there is going to be half a second lag now and then.  This is not made by apple people.  For 34.99 you cannot possible go wrong.\", shape=(), dtype=string)\n",
            "target[0]: tf.Tensor(1.0, shape=(), dtype=float64)\n"
          ]
        }
      ]
    },
    {
      "cell_type": "markdown",
      "source": [
        "## Bag-of-words approach"
      ],
      "metadata": {
        "id": "PMb-wl8sKiNv"
      }
    },
    {
      "cell_type": "markdown",
      "source": [
        "We vectorize the review text data to convert sentences into sequences of word indices.\n",
        "The sequences are padded to ensure uniform input length (`pad_to_max_tokens = True`).\n",
        "The vocabulary is constructed with `max_tokens=20000`, using most frequent terms.\n",
        "We also set `output_mode            = 'multi_hot'`, converting sequences of word indices into corresponding binary arrays of `max_tokens` size. This is the so-called *bag-of-words* approach where the text encoding discards the underlying order."
      ],
      "metadata": {
        "id": "mOgFCU0DGPCF"
      }
    },
    {
      "cell_type": "code",
      "source": [
        "max_tokens             = 20000\n",
        "\n",
        "vectorize_layer        = keras.layers.TextVectorization( max_tokens             = max_tokens,\n",
        "                                                         output_mode            = 'multi_hot',\n",
        "                                                         pad_to_max_tokens      = True,\n",
        "                                                       )\n",
        "\n",
        "#--- prepare a dataset that only includes raw texts (no labels)\n",
        "text_only_train_ds     = train_dataset.map(lambda x, y: x )\n",
        "\n",
        "#--- dataset vocab\n",
        "vectorize_layer.adapt( text_only_train_ds )\n",
        "print('subset of the built vocabulary:')\n",
        "display( np.random.choice( vectorize_layer.get_vocabulary(), 10 ) )\n",
        "\n",
        "#--- indexing training and test datasets\n",
        "int_train_ds           = train_dataset.map( lambda x, y: ( vectorize_layer( x ), y ) )\n",
        "int_test_ds            = test_dataset.map(  lambda x, y: ( vectorize_layer( x ), y ) )"
      ],
      "metadata": {
        "colab": {
          "base_uri": "https://localhost:8080/",
          "height": 69
        },
        "id": "6uSII5XMHD2w",
        "outputId": "f30350e1-45bf-4547-f9c6-6aa628c860ca"
      },
      "execution_count": 8,
      "outputs": [
        {
          "output_type": "stream",
          "name": "stdout",
          "text": [
            "subset of the built vocabulary:\n"
          ]
        },
        {
          "output_type": "display_data",
          "data": {
            "text/plain": [
              "array(['compressed', 'established', 'scratched', '500ma', 'pursuing',\n",
              "       'evaluation', 'reduced', 'sue', 'bluered', 'toggles'], dtype='<U19')"
            ]
          },
          "metadata": {}
        }
      ]
    },
    {
      "cell_type": "markdown",
      "source": [
        "Let's explore the content of `int_test_ds`:"
      ],
      "metadata": {
        "id": "K2B47mWjNjAO"
      }
    },
    {
      "cell_type": "code",
      "source": [
        "for input, target in int_test_ds:\n",
        "  print('input.shape:',input.shape)\n",
        "  print('input.dtype:',input.dtype)\n",
        "  print('target.shape:',target.shape)\n",
        "  print('target.dtype:',target.dtype)\n",
        "  print('input[0]:',input[0])\n",
        "  print('target[0]:',target[0])\n",
        "  break"
      ],
      "metadata": {
        "colab": {
          "base_uri": "https://localhost:8080/"
        },
        "id": "hTf-aMSiJBSQ",
        "outputId": "ec123964-4b46-41c1-ce77-eb691d0409e3"
      },
      "execution_count": 9,
      "outputs": [
        {
          "output_type": "stream",
          "name": "stdout",
          "text": [
            "input.shape: (32, 20000)\n",
            "input.dtype: <dtype: 'float32'>\n",
            "target.shape: (32,)\n",
            "target.dtype: <dtype: 'float64'>\n",
            "input[0]: tf.Tensor([1. 1. 1. ... 0. 0. 0.], shape=(20000,), dtype=float32)\n",
            "target[0]: tf.Tensor(1.0, shape=(), dtype=float64)\n"
          ]
        }
      ]
    },
    {
      "cell_type": "markdown",
      "source": [
        "Inputs are size-32 batches of 20,000-dimensional binary arrays. Let's write a model-building function:"
      ],
      "metadata": {
        "id": "RbcC92lJN7Ep"
      }
    },
    {
      "cell_type": "code",
      "execution_count": 10,
      "metadata": {
        "ExecuteTime": {
          "end_time": "2017-03-20T01:59:09.017663Z",
          "start_time": "2017-03-19T21:59:08.896993-04:00"
        },
        "jupyter": {
          "outputs_hidden": false
        },
        "id": "rQwPpZPBJtah"
      },
      "outputs": [],
      "source": [
        "def get_bagOfWords_model( input_dim, hidden_dim ):\n",
        "  inputs = keras.Input( shape = input_dim )\n",
        "  x      = keras.layers.Dense(hidden_dim, activation='relu')(inputs)\n",
        "  x      = keras.layers.Dropout(0.5)(x)\n",
        "  output = keras.layers.Dense( 1, activation = 'sigmoid' )( x )\n",
        "  model  = keras.Model(inputs, output)\n",
        "\n",
        "  model.compile( optimizer = 'rmsprop',\n",
        "                 loss      = 'binary_crossentropy',\n",
        "                 metrics   = ['accuracy'] )\n",
        "  return model"
      ]
    },
    {
      "cell_type": "markdown",
      "source": [
        "We train and evaluate our model."
      ],
      "metadata": {
        "id": "4E1dMmx4Fity"
      }
    },
    {
      "cell_type": "code",
      "source": [
        "model = get_bagOfWords_model( input_dim  = ( max_tokens ),\n",
        "                              hidden_dim = 16 )\n",
        "model.summary()\n",
        "\n",
        "callbacks = [ tf.keras.callbacks.ModelCheckpoint( filepath = 'bag_of_words_model.keras',\n",
        "                                                  monitor  = 'val_accuracy',\n",
        "                                                  mode     = 'max',\n",
        "                                                  save_best_only=True )\n",
        "            ]\n",
        "history  = model.fit( int_train_ds,\n",
        "                     validation_data = int_test_ds,\n",
        "                     callbacks       = callbacks,\n",
        "                     epochs          = 10 )\n",
        "\n",
        "model    = keras.models.load_model( 'bag_of_words_model.keras' )\n",
        "\n",
        "print(f'Test accuracy:{model.evaluate( int_test_ds )[1]:.2f}')"
      ],
      "metadata": {
        "colab": {
          "base_uri": "https://localhost:8080/"
        },
        "id": "uq-fRJU9E7qv",
        "outputId": "ada2ad5b-6fe8-4417-bfbf-d4ed01f3f2d8"
      },
      "execution_count": 11,
      "outputs": [
        {
          "output_type": "stream",
          "name": "stdout",
          "text": [
            "Model: \"model\"\n",
            "_________________________________________________________________\n",
            " Layer (type)                Output Shape              Param #   \n",
            "=================================================================\n",
            " input_1 (InputLayer)        [(None, 20000)]           0         \n",
            "                                                                 \n",
            " dense (Dense)               (None, 16)                320016    \n",
            "                                                                 \n",
            " dropout (Dropout)           (None, 16)                0         \n",
            "                                                                 \n",
            " dense_1 (Dense)             (None, 1)                 17        \n",
            "                                                                 \n",
            "=================================================================\n",
            "Total params: 320033 (1.22 MB)\n",
            "Trainable params: 320033 (1.22 MB)\n",
            "Non-trainable params: 0 (0.00 Byte)\n",
            "_________________________________________________________________\n",
            "Epoch 1/10\n",
            "2621/2621 [==============================] - 28s 11ms/step - loss: 0.3831 - accuracy: 0.8471 - val_loss: 0.3162 - val_accuracy: 0.8777\n",
            "Epoch 2/10\n",
            "2621/2621 [==============================] - 24s 9ms/step - loss: 0.3479 - accuracy: 0.8701 - val_loss: 0.3220 - val_accuracy: 0.8758\n",
            "Epoch 3/10\n",
            "2621/2621 [==============================] - 25s 9ms/step - loss: 0.3412 - accuracy: 0.8713 - val_loss: 0.3237 - val_accuracy: 0.8780\n",
            "Epoch 4/10\n",
            "2621/2621 [==============================] - 25s 10ms/step - loss: 0.3366 - accuracy: 0.8729 - val_loss: 0.3249 - val_accuracy: 0.8774\n",
            "Epoch 5/10\n",
            "2621/2621 [==============================] - 24s 9ms/step - loss: 0.3290 - accuracy: 0.8749 - val_loss: 0.3185 - val_accuracy: 0.8785\n",
            "Epoch 6/10\n",
            "2621/2621 [==============================] - 25s 10ms/step - loss: 0.3321 - accuracy: 0.8749 - val_loss: 0.3193 - val_accuracy: 0.8783\n",
            "Epoch 7/10\n",
            "2621/2621 [==============================] - 24s 9ms/step - loss: 0.3286 - accuracy: 0.8765 - val_loss: 0.3199 - val_accuracy: 0.8785\n",
            "Epoch 8/10\n",
            "2621/2621 [==============================] - 25s 10ms/step - loss: 0.3216 - accuracy: 0.8773 - val_loss: 0.3223 - val_accuracy: 0.8789\n",
            "Epoch 9/10\n",
            "2621/2621 [==============================] - 26s 10ms/step - loss: 0.3213 - accuracy: 0.8768 - val_loss: 0.3235 - val_accuracy: 0.8783\n",
            "Epoch 10/10\n",
            "2621/2621 [==============================] - 27s 10ms/step - loss: 0.3199 - accuracy: 0.8788 - val_loss: 0.3205 - val_accuracy: 0.8775\n",
            "655/655 [==============================] - 3s 4ms/step - loss: 0.3223 - accuracy: 0.8789\n",
            "Test accuracy:0.88\n"
          ]
        }
      ]
    },
    {
      "cell_type": "markdown",
      "source": [
        "After 10 `epochs`, We reach a test accuracy of 88% which exceeds our baseline 67%, corresponding to the ratio of positive reviews in the current dataset."
      ],
      "metadata": {
        "id": "vnnSSS7Er9MB"
      }
    },
    {
      "cell_type": "markdown",
      "source": [
        "## Sequence model approach\n",
        "\n",
        "Here we build our sequence model, taking a set of integer sequences as input. We truncate the inputs by setting `output_sequence_length = 200`. This number corresponds to the 95% quantile associated with the distribution of the length of reviews (in terms of the number of words)."
      ],
      "metadata": {
        "id": "sB1C-VmZqUHL"
      }
    },
    {
      "cell_type": "code",
      "source": [
        "output_sequence_length = 200\n",
        "\n",
        "vectorize_layer        = keras.layers.TextVectorization( max_tokens             = max_tokens,\n",
        "                                                         output_mode            = 'int',\n",
        "                                                         output_sequence_length = output_sequence_length,\n",
        "                                                       )\n",
        "\n",
        "#--- prepare a dataset that only includes raw texts (no labels)\n",
        "text_only_train_ds     = train_dataset.map(lambda x, y: x )\n",
        "\n",
        "#--- dataset vocab\n",
        "vectorize_layer.adapt( text_only_train_ds )\n",
        "print('subset of the built vocabulary:')\n",
        "display( np.random.choice( vectorize_layer.get_vocabulary(), 10 ) )\n",
        "\n",
        "#--- indexing training and test datasets\n",
        "int_train_ds           = train_dataset.map( lambda x, y: ( vectorize_layer( x ), y ) )\n",
        "int_test_ds            = test_dataset.map(  lambda x, y: ( vectorize_layer( x ), y ) )\n"
      ],
      "metadata": {
        "colab": {
          "base_uri": "https://localhost:8080/",
          "height": 69
        },
        "id": "AUE4bBG6Li8H",
        "outputId": "8c45a61d-cc90-4dd8-930e-fe69a60c2cf6"
      },
      "execution_count": 12,
      "outputs": [
        {
          "output_type": "stream",
          "name": "stdout",
          "text": [
            "subset of the built vocabulary:\n"
          ]
        },
        {
          "output_type": "display_data",
          "data": {
            "text/plain": [
              "array(['horn', 'ptt', 'backi', 'duragadget', 'discharge', 'scuffing',\n",
              "       'locate', 'mines', 'mushy', 'themselves'], dtype='<U19')"
            ]
          },
          "metadata": {}
        }
      ]
    },
    {
      "cell_type": "code",
      "source": [
        "for input, target in int_test_ds.take(1):\n",
        "  print('input.shape:',input.shape)\n",
        "  print('input.dtype:',input.dtype)\n",
        "  print('target.shape:',target.shape)\n",
        "  print('target.dtype:',target.dtype)\n",
        "  print('input[0]:',input[0])\n",
        "  print('target[0]:',target[0])"
      ],
      "metadata": {
        "colab": {
          "base_uri": "https://localhost:8080/"
        },
        "id": "zLqua0-GQYWK",
        "outputId": "9dda7785-7a42-4a1a-f416-36c2d3f9ce9e"
      },
      "execution_count": 13,
      "outputs": [
        {
          "output_type": "stream",
          "name": "stdout",
          "text": [
            "input.shape: (32, 200)\n",
            "input.dtype: <dtype: 'int64'>\n",
            "target.shape: (32,)\n",
            "target.dtype: <dtype: 'float64'>\n",
            "input[0]: tf.Tensor(\n",
            "[   9   96    8    7    1    3   54  175  530   16   11 1800   26    1\n",
            "    3   95    2 3872   14   18   46   42 5255    1   15    4  345 2907\n",
            "    4   49  113   51   90  115   18   42  674   31    3   49  187    7\n",
            "  336   26   10   11  614  487    7 3330  144   44    4 1475   13   11\n",
            " 1332 1758   10    7  451    5   37    3  254    4    4   19  110  662\n",
            " 6390   31  277    7   25   35   40    7   25   66    0    0    0    0\n",
            "    0    0    0    0    0    0    0    0    0    0    0    0    0    0\n",
            "    0    0    0    0    0    0    0    0    0    0    0    0    0    0\n",
            "    0    0    0    0    0    0    0    0    0    0    0    0    0    0\n",
            "    0    0    0    0    0    0    0    0    0    0    0    0    0    0\n",
            "    0    0    0    0    0    0    0    0    0    0    0    0    0    0\n",
            "    0    0    0    0    0    0    0    0    0    0    0    0    0    0\n",
            "    0    0    0    0    0    0    0    0    0    0    0    0    0    0\n",
            "    0    0    0    0    0    0    0    0    0    0    0    0    0    0\n",
            "    0    0    0    0], shape=(200,), dtype=int64)\n",
            "target[0]: tf.Tensor(1.0, shape=(), dtype=float64)\n"
          ]
        }
      ]
    },
    {
      "cell_type": "markdown",
      "source": [
        "### Word embedding\n"
      ],
      "metadata": {
        "id": "sDQHEM4NbX1O"
      }
    },
    {
      "cell_type": "markdown",
      "source": [
        "Our revised model takes a sequence of integers with dimension 200 and converts it into a binary array of size (200, `embed_dim=64`), using an embedding layer. We also replace the dense layer with a `LSTM`."
      ],
      "metadata": {
        "id": "gSG0zfc6ymtC"
      }
    },
    {
      "cell_type": "code",
      "source": [
        "def get_model( input_dim, embed_dim, hidden_dim, output_dim ):\n",
        "  inputs = keras.Input( shape = input_dim, dtype = tf.int32 )\n",
        "  x      = keras.layers.Embedding( max_tokens, embed_dim, input_length=output_sequence_length )( inputs )\n",
        "  x      = keras.layers.Bidirectional( keras.layers.LSTM(hidden_dim) )(x)\n",
        "  x      = keras.layers.Dropout(0.5)(x)\n",
        "  output = keras.layers.Dense( output_dim, activation = 'sigmoid' )( x )\n",
        "  model  = keras.Model(inputs, output)\n",
        "\n",
        "  model.compile( optimizer = 'rmsprop',\n",
        "                 loss      = 'binary_crossentropy',\n",
        "                 metrics   = ['accuracy'] )\n",
        "  return model\n"
      ],
      "metadata": {
        "id": "halAhYUD9rFi"
      },
      "execution_count": 14,
      "outputs": []
    },
    {
      "cell_type": "code",
      "source": [
        "model = get_model( input_dim  = (output_sequence_length),\n",
        "                   embed_dim  = 64,\n",
        "                   hidden_dim = 16,\n",
        "                   output_dim = 1 )\n",
        "model.summary()\n",
        "\n",
        "callbacks = [ tf.keras.callbacks.ModelCheckpoint( filepath = 'embedding_lstm.keras',\n",
        "                                                  monitor  = 'val_accuracy',\n",
        "                                                  mode     = 'max',\n",
        "                                                  save_best_only=True )\n",
        "            ]\n",
        "history  = model.fit( int_train_ds,\n",
        "                     validation_data = int_test_ds,\n",
        "                     callbacks       = callbacks,\n",
        "                     epochs          = 10 )\n",
        "\n",
        "model    = keras.models.load_model( 'embedding_lstm.keras' )\n",
        "\n",
        "print(f'Test accuracy:{model.evaluate( int_test_ds )[1]:.2f}')"
      ],
      "metadata": {
        "colab": {
          "base_uri": "https://localhost:8080/"
        },
        "id": "iI30NURslt2x",
        "outputId": "60d5c6b8-f768-408a-fc4d-e849d3b0b517"
      },
      "execution_count": null,
      "outputs": [
        {
          "output_type": "stream",
          "name": "stdout",
          "text": [
            "Model: \"model_1\"\n",
            "_________________________________________________________________\n",
            " Layer (type)                Output Shape              Param #   \n",
            "=================================================================\n",
            " input_2 (InputLayer)        [(None, 200)]             0         \n",
            "                                                                 \n",
            " embedding (Embedding)       (None, 200, 64)           1280000   \n",
            "                                                                 \n",
            " bidirectional (Bidirection  (None, 32)                10368     \n",
            " al)                                                             \n",
            "                                                                 \n",
            " dropout_1 (Dropout)         (None, 32)                0         \n",
            "                                                                 \n",
            " dense_2 (Dense)             (None, 1)                 33        \n",
            "                                                                 \n",
            "=================================================================\n",
            "Total params: 1290401 (4.92 MB)\n",
            "Trainable params: 1290401 (4.92 MB)\n",
            "Non-trainable params: 0 (0.00 Byte)\n",
            "_________________________________________________________________\n",
            "Epoch 1/10\n",
            "2621/2621 [==============================] - 412s 155ms/step - loss: 0.3673 - accuracy: 0.8469 - val_loss: 0.2925 - val_accuracy: 0.8810\n",
            "Epoch 2/10\n",
            "2621/2621 [==============================] - 407s 155ms/step - loss: 0.2957 - accuracy: 0.8851 - val_loss: 0.2736 - val_accuracy: 0.8904\n",
            "Epoch 3/10\n",
            "2621/2621 [==============================] - 407s 155ms/step - loss: 0.2724 - accuracy: 0.8952 - val_loss: 0.2599 - val_accuracy: 0.8955\n",
            "Epoch 4/10\n",
            "2621/2621 [==============================] - 403s 154ms/step - loss: 0.2536 - accuracy: 0.9042 - val_loss: 0.2622 - val_accuracy: 0.8976\n",
            "Epoch 5/10\n",
            "2621/2621 [==============================] - 408s 156ms/step - loss: 0.2384 - accuracy: 0.9126 - val_loss: 0.2510 - val_accuracy: 0.9000\n",
            "Epoch 6/10\n",
            "2621/2621 [==============================] - 414s 158ms/step - loss: 0.2232 - accuracy: 0.9190 - val_loss: 0.2636 - val_accuracy: 0.8998\n",
            "Epoch 7/10\n",
            "  84/2621 [..............................] - ETA: 5:44 - loss: 0.2117 - accuracy: 0.9275"
          ]
        }
      ]
    },
    {
      "cell_type": "markdown",
      "source": [
        "We note that the above model trains relatively slow in comparison with the multi-hot model (due to the embedding and LSTM layers). The observed test accuracy is above 90% and is in close agreement with the latter model. This slight improvement is despite the fact that the sequence model probes truncated sequences after 600 words as opposed to the full reviews processed by the first model."
      ],
      "metadata": {
        "id": "9MKHXzg16gA6"
      }
    },
    {
      "cell_type": "markdown",
      "source": [
        "## Conclusions and Discussions\n",
        "\n",
        "\n",
        "The project successfully classified the sentiment of Amazon product reviews as positive or negative using deep learning techniques. Two primary models were explored: a Bag-of-Words model and a Sequence model with word embeddings and an LSTM layer. The Bag-of-Words model achieved a test accuracy of approximately 88%, significantly surpassing the baseline accuracy of 67%, which was based on the distribution of positive reviews in the dataset.\n",
        "\n",
        "Data preprocessing steps, including converting star ratings to binary sentiment labels, were crucial for preparing the dataset. The Bag-of-Words model utilized a simple, yet effective text vectorization approach, transforming text into binary arrays based on word presence. This method, despite its simplicity, provided a robust baseline performance.\n",
        "\n",
        "The Sequence model, incorporating an embedding layer and an LSTM, aimed to capture more complex patterns in the text data. The LSTM, known for handling sequential data, helped model temporal dependencies within the review text, potentially improving the classification of nuanced sentiments. However, the actual test accuracy and the comparative performance between these models need further analysis.\n",
        "\n",
        "The training process for both models included validation steps to monitor and save the best-performing model based on validation accuracy. This approach ensured that the model generalizes well to unseen data, reducing the risk of overfitting. The final evaluation metrics indicate a strong performance for both models, with the Bag-of-Words model reaching a high accuracy, demonstrating its effectiveness even with a relatively simple architecture.\n",
        "\n",
        "Several limitations were noted:\n",
        "i) The dataset was restricted to the Mobile and Electronics category, limiting the generalizability of the findings across different product categories.\n",
        "ii) The Bag-of-Words approach, while effective, does not consider word order or semantic meaning, potentially limiting its ability to capture more complex sentiments.\n",
        "\n",
        "Future work could explore:\n",
        "i) Expanding the dataset to include more diverse product categories.\n",
        "ii) Incorporating more advanced models, such as transformers or attention mechanisms, to potentially enhance the sentiment classification accuracy.\n",
        "iii) Analyzing and mitigating any biases present in the dataset that could affect model predictions.\n",
        "\n",
        "The ability to accurately classify sentiment from product reviews has practical implications for businesses, helping them understand customer opinions and feedback. This can guide product improvements, marketing strategies, and customer engagement initiatives. The models developed in this project could be integrated into recommendation systems, automated customer service, and market analysis tools, providing valuable insights and enhancing user experience.\n",
        "\n",
        "\n",
        "\n",
        "\n",
        "\n",
        "\n"
      ],
      "metadata": {
        "id": "t_RKr_MrunoH"
      }
    },
    {
      "cell_type": "markdown",
      "source": [
        "Please check out my [Github](https://github.com/kkarimi62/IBM-Machine-Learning-Professional-Certificate/blob/main/ClusteringAndDimensionReductionTechniques.ipynb) for further information."
      ],
      "metadata": {
        "id": "UFxb4h6-y_AC"
      }
    }
  ],
  "metadata": {
    "kernelspec": {
      "display_name": "Python",
      "language": "python",
      "name": "conda-env-python-py"
    },
    "language_info": {
      "name": ""
    },
    "colab": {
      "provenance": [],
      "toc_visible": true,
      "include_colab_link": true
    }
  },
  "nbformat": 4,
  "nbformat_minor": 0
}